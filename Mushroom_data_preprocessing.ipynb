{
 "cells": [
  {
   "cell_type": "code",
   "execution_count": 29,
   "id": "14835e09-4a3a-4abb-bcd6-4f28d089f6ca",
   "metadata": {},
   "outputs": [],
   "source": [
    "import pandas as pd\n",
    "from pathlib import Path"
   ]
  },
  {
   "cell_type": "markdown",
   "id": "d108cf5a-f07a-4a5d-86bb-6d3669105812",
   "metadata": {},
   "source": [
    "## Raw DataFrame"
   ]
  },
  {
   "cell_type": "code",
   "execution_count": 30,
   "id": "d8b16db9-0e65-46ae-9e7f-0fa30fc95bc4",
   "metadata": {},
   "outputs": [
    {
     "name": "stdout",
     "output_type": "stream",
     "text": [
      "<class 'pandas.core.frame.DataFrame'>\n",
      "RangeIndex: 61069 entries, 0 to 61068\n",
      "Data columns (total 21 columns):\n",
      " #   Column                Non-Null Count  Dtype  \n",
      "---  ------                --------------  -----  \n",
      " 0   class                 61069 non-null  object \n",
      " 1   cap-diameter          61069 non-null  float64\n",
      " 2   cap-shape             61069 non-null  object \n",
      " 3   cap-surface           46949 non-null  object \n",
      " 4   cap-color             61069 non-null  object \n",
      " 5   does-bruise-or-bleed  61069 non-null  object \n",
      " 6   gill-attachment       51185 non-null  object \n",
      " 7   gill-spacing          36006 non-null  object \n",
      " 8   gill-color            61069 non-null  object \n",
      " 9   stem-height           61069 non-null  float64\n",
      " 10  stem-width            61069 non-null  float64\n",
      " 11  stem-root             9531 non-null   object \n",
      " 12  stem-surface          22945 non-null  object \n",
      " 13  stem-color            61069 non-null  object \n",
      " 14  veil-type             3177 non-null   object \n",
      " 15  veil-color            7413 non-null   object \n",
      " 16  has-ring              61069 non-null  object \n",
      " 17  ring-type             58598 non-null  object \n",
      " 18  spore-print-color     6354 non-null   object \n",
      " 19  habitat               61069 non-null  object \n",
      " 20  season                61069 non-null  object \n",
      "dtypes: float64(3), object(18)\n",
      "memory usage: 9.8+ MB\n"
     ]
    }
   ],
   "source": [
    "path = Path('MushroomDataset/secondary_data.csv')\n",
    "\n",
    "df = pd.read_csv(path, delimiter = \";\")\n",
    "\n",
    "\n",
    "df.info()"
   ]
  },
  {
   "cell_type": "code",
   "execution_count": 31,
   "id": "60e75205-f956-416a-80b5-83217b61d59e",
   "metadata": {},
   "outputs": [
    {
     "name": "stderr",
     "output_type": "stream",
     "text": [
      "/var/folders/5m/shf7gpzs18dbkf8w2t3gn39w0000gn/T/ipykernel_8440/1415928822.py:2: FutureWarning: Downcasting behavior in `replace` is deprecated and will be removed in a future version. To retain the old behavior, explicitly call `result.infer_objects(copy=False)`. To opt-in to the future behavior, set `pd.set_option('future.no_silent_downcasting', True)`\n",
      "  df[\"class\"] = df[\"class\"].replace({\"p\":0, \"e\":1})\n"
     ]
    }
   ],
   "source": [
    "#replace 'p' and 'e' classification labels with 1 and 0\n",
    "df[\"class\"] = df[\"class\"].replace({\"p\":0, \"e\":1})"
   ]
  },
  {
   "cell_type": "code",
   "execution_count": 32,
   "id": "fe362bd9-dc92-427c-8b3f-b63591255fe3",
   "metadata": {},
   "outputs": [
    {
     "data": {
      "text/plain": [
       "class\n",
       "0    33888\n",
       "1    27181\n",
       "Name: count, dtype: int64"
      ]
     },
     "execution_count": 32,
     "metadata": {},
     "output_type": "execute_result"
    }
   ],
   "source": [
    "df[\"class\"].value_counts()"
   ]
  },
  {
   "cell_type": "markdown",
   "id": "0c601331-3aa4-4938-9da9-7536f6d9ed38",
   "metadata": {},
   "source": [
    "## New DataFrame with blank values filled"
   ]
  },
  {
   "cell_type": "code",
   "execution_count": 34,
   "id": "19f96bad-dbb1-4297-88f2-d9d6c75ec2d7",
   "metadata": {},
   "outputs": [],
   "source": [
    "values = {\"gill-attachment\": \"unknown\"}\n",
    "df = df.fillna(value = values)"
   ]
  },
  {
   "cell_type": "code",
   "execution_count": 36,
   "id": "76650096-d162-4989-9e71-823c18f93076",
   "metadata": {},
   "outputs": [
    {
     "data": {
      "text/plain": [
       "gill-spacing\n",
       "c    24710\n",
       "d     7766\n",
       "f     3530\n",
       "Name: count, dtype: int64"
      ]
     },
     "execution_count": 36,
     "metadata": {},
     "output_type": "execute_result"
    }
   ],
   "source": [
    "df[\"gill-spacing\"].value_counts()"
   ]
  },
  {
   "cell_type": "markdown",
   "id": "c3636235-9f55-4a2c-8788-1297c07166cb",
   "metadata": {},
   "source": [
    "## New DataFrame with columns containting blank values removed"
   ]
  },
  {
   "cell_type": "code",
   "execution_count": 33,
   "id": "e542e6b5-5dd2-4f0c-ad3b-4bbf8757d773",
   "metadata": {},
   "outputs": [],
   "source": [
    "#recuding dimensionality by by dropping columns with NaN values\n",
    "reduced_features_df = df.copy().dropna(axis = 1)"
   ]
  },
  {
   "cell_type": "code",
   "execution_count": 34,
   "id": "25ee4212-3ac7-4478-97de-6f7c23e91594",
   "metadata": {},
   "outputs": [
    {
     "data": {
      "text/plain": [
       "class                      2\n",
       "cap-diameter            2571\n",
       "cap-shape                  7\n",
       "cap-color                 12\n",
       "does-bruise-or-bleed       2\n",
       "gill-color                12\n",
       "stem-height             2226\n",
       "stem-width              4630\n",
       "stem-color                13\n",
       "has-ring                   2\n",
       "habitat                    8\n",
       "season                     4\n",
       "dtype: int64"
      ]
     },
     "execution_count": 34,
     "metadata": {},
     "output_type": "execute_result"
    }
   ],
   "source": [
    "reduced_features_df.nunique()"
   ]
  },
  {
   "cell_type": "code",
   "execution_count": 35,
   "id": "5fb66148-8c54-4060-8616-26efac267bb6",
   "metadata": {},
   "outputs": [],
   "source": [
    "#isolate target variable\n",
    "target_variable_df = pd.DataFrame(reduced_features_df[\"class\"])"
   ]
  },
  {
   "cell_type": "code",
   "execution_count": 36,
   "id": "db3efd15-aad4-4034-bf22-aab86fdbb264",
   "metadata": {},
   "outputs": [],
   "source": [
    "#offload numerical features into standalone df\n",
    "reduced_features_numerical_df = pd.DataFrame(reduced_features_df[[\"cap-diameter\", \"stem-height\", \"stem-width\"]])"
   ]
  },
  {
   "cell_type": "code",
   "execution_count": 37,
   "id": "49c1ddf5-7e81-4084-8570-7343735abb2b",
   "metadata": {},
   "outputs": [],
   "source": [
    "#isolate categorical features to next create dummies\n",
    "reduced_features_categorical_df = reduced_features_df.drop(columns = [\"class\", \"cap-diameter\", \"stem-height\", \"stem-width\"])"
   ]
  },
  {
   "cell_type": "code",
   "execution_count": 38,
   "id": "be391411-7745-44d7-abf5-8a2d17584004",
   "metadata": {},
   "outputs": [],
   "source": [
    "dummies = pd.get_dummies(reduced_features_categorical_df, dtype = int)\n"
   ]
  },
  {
   "cell_type": "code",
   "execution_count": 39,
   "id": "280d2f3f-c296-4387-b971-1d0846963dd5",
   "metadata": {},
   "outputs": [],
   "source": [
    "all_features_df = pd.concat([reduced_features_numerical_df, dummies], axis = 1)\n"
   ]
  },
  {
   "cell_type": "code",
   "execution_count": 40,
   "id": "ae7baf65-e14d-475f-ab6b-33363b813e8d",
   "metadata": {},
   "outputs": [],
   "source": [
    "final_perprocessed_nonScaled_df = pd.concat([target_variable_df,all_features_df], axis = 1)"
   ]
  },
  {
   "cell_type": "code",
   "execution_count": 42,
   "id": "3c77959a-1c55-4442-89b0-834ba4d17574",
   "metadata": {},
   "outputs": [],
   "source": [
    "out_path = Path('MushroomDataset/preprocessed_mushroom_data_1.csv')\n",
    "final_perprocessed_df.to_csv(out_path, header = final_perprocessed_df.columns, index = False)"
   ]
  },
  {
   "cell_type": "code",
   "execution_count": null,
   "id": "dfc4ab38-3073-47d4-9d05-d18db76cfc3d",
   "metadata": {},
   "outputs": [],
   "source": []
  }
 ],
 "metadata": {
  "kernelspec": {
   "display_name": "Python 3 (ipykernel)",
   "language": "python",
   "name": "python3"
  },
  "language_info": {
   "codemirror_mode": {
    "name": "ipython",
    "version": 3
   },
   "file_extension": ".py",
   "mimetype": "text/x-python",
   "name": "python",
   "nbconvert_exporter": "python",
   "pygments_lexer": "ipython3",
   "version": "3.12.7"
  }
 },
 "nbformat": 4,
 "nbformat_minor": 5
}
