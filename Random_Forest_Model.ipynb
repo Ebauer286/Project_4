{
 "cells": [
  {
   "cell_type": "code",
   "execution_count": 1,
   "id": "3c4cd841-9a62-4a33-bd12-44da81e5e717",
   "metadata": {},
   "outputs": [],
   "source": [
    "import pandas as pd\n",
    "from pathlib import Path\n",
    "from sklearn.preprocessing import StandardScaler\n",
    "from sklearn.ensemble import RandomForestClassifier\n",
    "from sklearn.model_selection import train_test_split\n",
    "from sklearn.metrics import confusion_matrix, accuracy_score, classification_report\n",
    "import pickle"
   ]
  },
  {
   "cell_type": "code",
   "execution_count": 22,
   "id": "ad299f00-66e7-4791-8fd5-84b2f2699578",
   "metadata": {},
   "outputs": [],
   "source": [
    "path = Path('MushroomDataset/preprocessed_mushroom_data_1.csv')\n",
    "complete_data = pd.read_csv(path)"
   ]
  },
  {
   "cell_type": "code",
   "execution_count": 23,
   "id": "6f9e47ba-bb8b-4e22-a8a2-83c143fcac02",
   "metadata": {},
   "outputs": [],
   "source": [
    "y_data = complete_data[\"class\"].to_numpy()\n",
    "X_data = complete_data.drop(columns = [\"class\"])"
   ]
  },
  {
   "cell_type": "code",
   "execution_count": 24,
   "id": "dd69a0f2-c430-4650-a745-aec3bcbdd28c",
   "metadata": {},
   "outputs": [],
   "source": [
    "# Splitting into Train and Test sets\n",
    "X_train, X_test, y_train, y_test = train_test_split(X_data, y_data, random_state=78)"
   ]
  },
  {
   "cell_type": "code",
   "execution_count": 26,
   "id": "57965114-9ab8-4ef7-b30c-0d8c6cef9659",
   "metadata": {},
   "outputs": [],
   "source": [
    "scaler = StandardScaler()\n",
    "\n",
    "scaler_fit = scaler.fit(X_train)\n",
    "\n",
    "X_train_scaled = scaler_fit.transform(X_train)\n",
    "X_test_scaled = scaler_fit.transform(X_test)"
   ]
  },
  {
   "cell_type": "code",
   "execution_count": 27,
   "id": "8b546009-86b5-4acd-a020-09e4c5238858",
   "metadata": {},
   "outputs": [],
   "source": [
    " # Create a random forest classifier\n",
    "rf_model = RandomForestClassifier(n_estimators=500, random_state=78)"
   ]
  },
  {
   "cell_type": "code",
   "execution_count": 28,
   "id": "1dfa5084-96ec-42dc-a0ae-07dd21d85039",
   "metadata": {},
   "outputs": [],
   "source": [
    "# Fit the model\n",
    "rf_model = rf_model.fit(X_train_scaled, y_train)"
   ]
  },
  {
   "cell_type": "code",
   "execution_count": 29,
   "id": "4dc6b630-8e0c-4cff-adee-0805421e92cd",
   "metadata": {},
   "outputs": [],
   "source": [
    "# Making predictions using the testing data\n",
    "predictions = rf_model.predict(X_test_scaled)"
   ]
  },
  {
   "cell_type": "code",
   "execution_count": 30,
   "id": "353140bc-0193-4ff0-9512-89b2c0e942f3",
   "metadata": {},
   "outputs": [],
   "source": [
    "# Calculating the confusion matrix\n",
    "cm = confusion_matrix(y_test, predictions)\n",
    "cm_df = pd.DataFrame(\n",
    "    cm, index=[\"Actual 0\", \"Actual 1\"], columns=[\"Predicted 0\", \"Predicted 1\"]\n",
    ")\n",
    "\n",
    "# Calculating the accuracy score\n",
    "acc_score = accuracy_score(y_test, predictions)"
   ]
  },
  {
   "cell_type": "code",
   "execution_count": 31,
   "id": "4c09206a-e5f5-4c61-96b3-8d94f6cafbe7",
   "metadata": {},
   "outputs": [
    {
     "name": "stdout",
     "output_type": "stream",
     "text": [
      "Confusion Matrix\n"
     ]
    },
    {
     "data": {
      "text/html": [
       "<div>\n",
       "<style scoped>\n",
       "    .dataframe tbody tr th:only-of-type {\n",
       "        vertical-align: middle;\n",
       "    }\n",
       "\n",
       "    .dataframe tbody tr th {\n",
       "        vertical-align: top;\n",
       "    }\n",
       "\n",
       "    .dataframe thead th {\n",
       "        text-align: right;\n",
       "    }\n",
       "</style>\n",
       "<table border=\"1\" class=\"dataframe\">\n",
       "  <thead>\n",
       "    <tr style=\"text-align: right;\">\n",
       "      <th></th>\n",
       "      <th>Predicted 0</th>\n",
       "      <th>Predicted 1</th>\n",
       "    </tr>\n",
       "  </thead>\n",
       "  <tbody>\n",
       "    <tr>\n",
       "      <th>Actual 0</th>\n",
       "      <td>8360</td>\n",
       "      <td>33</td>\n",
       "    </tr>\n",
       "    <tr>\n",
       "      <th>Actual 1</th>\n",
       "      <td>31</td>\n",
       "      <td>6844</td>\n",
       "    </tr>\n",
       "  </tbody>\n",
       "</table>\n",
       "</div>"
      ],
      "text/plain": [
       "          Predicted 0  Predicted 1\n",
       "Actual 0         8360           33\n",
       "Actual 1           31         6844"
      ]
     },
     "metadata": {},
     "output_type": "display_data"
    },
    {
     "name": "stdout",
     "output_type": "stream",
     "text": [
      "Accuracy Score : 0.9958082263557768\n",
      "Classification Report\n",
      "              precision    recall  f1-score   support\n",
      "\n",
      "           0       1.00      1.00      1.00      8393\n",
      "           1       1.00      1.00      1.00      6875\n",
      "\n",
      "    accuracy                           1.00     15268\n",
      "   macro avg       1.00      1.00      1.00     15268\n",
      "weighted avg       1.00      1.00      1.00     15268\n",
      "\n"
     ]
    }
   ],
   "source": [
    " # Displaying results\n",
    "print(\"Confusion Matrix\")\n",
    "display(cm_df)\n",
    "print(f\"Accuracy Score : {acc_score}\")\n",
    "print(\"Classification Report\")\n",
    "print(classification_report(y_test, predictions))"
   ]
  },
  {
   "cell_type": "code",
   "execution_count": 34,
   "id": "1f653dbf-98dd-4bae-bd08-02165c030acd",
   "metadata": {},
   "outputs": [],
   "source": [
    "filename = 'trained_models/rf_model_1.pkl'\n",
    "with open(filename, 'wb') as file:\n",
    "    pickle.dump(rf_model, file)"
   ]
  },
  {
   "cell_type": "code",
   "execution_count": 37,
   "id": "058e7e70-5aef-44b7-8547-7396de5d2866",
   "metadata": {},
   "outputs": [],
   "source": [
    "scaler_filename = \"trained_scalers/rf_scaler_1.pkl\"\n",
    "\n",
    "with open(scaler_filename, 'wb') as file:\n",
    "    pickle.dump(scaler_fit, file)"
   ]
  },
  {
   "cell_type": "code",
   "execution_count": null,
   "id": "19aa7a37-8564-4aaa-bdd8-6da607a8084d",
   "metadata": {},
   "outputs": [],
   "source": []
  }
 ],
 "metadata": {
  "kernelspec": {
   "display_name": "Python 3 (ipykernel)",
   "language": "python",
   "name": "python3"
  },
  "language_info": {
   "codemirror_mode": {
    "name": "ipython",
    "version": 3
   },
   "file_extension": ".py",
   "mimetype": "text/x-python",
   "name": "python",
   "nbconvert_exporter": "python",
   "pygments_lexer": "ipython3",
   "version": "3.12.7"
  }
 },
 "nbformat": 4,
 "nbformat_minor": 5
}
